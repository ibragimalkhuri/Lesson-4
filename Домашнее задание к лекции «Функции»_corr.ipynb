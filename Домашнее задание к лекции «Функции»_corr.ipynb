{
 "cells": [
  {
   "cell_type": "markdown",
   "metadata": {},
   "source": [
    "# Задание 1"
   ]
  },
  {
   "cell_type": "code",
   "execution_count": 2,
   "metadata": {},
   "outputs": [],
   "source": [
    "documents = [\n",
    "{'type': 'passport', 'number': '2207 876234', 'name': 'Василий Гупкин'},\n",
    "{'type': 'invoice', 'number': '11-2', 'name':'Геннадий Покемонов'},\n",
    "{'type': 'insurance', 'number': '10006', 'name': 'Аристарх Павлов'}\n",
    "    \n",
    "]\n",
    " \n",
    "    \n",
    "directories = {\n",
    "'1': ['2207 876234', '11-2'],\n",
    "'2': ['10006'],\n",
    "'3': []\n",
    "}    \n"
   ]
  },
  {
   "cell_type": "markdown",
   "metadata": {},
   "source": [
    "### Пункт 1. Пользователь по команде “p” может узнать владельца документа по его номеру"
   ]
  },
  {
   "cell_type": "code",
   "execution_count": 5,
   "metadata": {
    "scrolled": true
   },
   "outputs": [],
   "source": [
    "def find_person (doc_number):\n",
    "    p=[]\n",
    "    for i in documents:\n",
    "        if i['number'] == str(doc_number):\n",
    "            p.append(i['name'])\n",
    "        else:\n",
    "            pass\n",
    "    result = ''\n",
    "    if p == []:\n",
    "        result = print('Документ не найден в базе')\n",
    "    else:\n",
    "        result = print(f'Владелец документа: {p[0]}')\n",
    "    return result\n"
   ]
  },
  {
   "cell_type": "code",
   "execution_count": 6,
   "metadata": {},
   "outputs": [
    {
     "name": "stdout",
     "output_type": "stream",
     "text": [
      "Введите номер документа: 10006\n",
      "Владелец документа: Аристарх Павлов\n"
     ]
    }
   ],
   "source": [
    "doc_number = int(input('Введите номер документа: '))\n",
    "find_person(doc_number)"
   ]
  },
  {
   "cell_type": "markdown",
   "metadata": {},
   "source": [
    "### Пункт 2. Пользователь по команде “s” может по номеру документа узнать на какой полке он хранится"
   ]
  },
  {
   "cell_type": "code",
   "execution_count": 7,
   "metadata": {},
   "outputs": [],
   "source": [
    "def find_shelf(doc_number):\n",
    "    s=[]\n",
    "\n",
    "    for i,y in directories.items():\n",
    "        if doc_number in str(y):\n",
    "            s.append(str(i))\n",
    "        else:\n",
    "            pass\n",
    "    result = ''\n",
    "    if s == []:\n",
    "        result = print('Документ не найден в базе')\n",
    "    else:\n",
    "        result = print(f'Документ хранится на полке: {s[0]}')\n",
    "    return result\n",
    "\n",
    "\n"
   ]
  },
  {
   "cell_type": "code",
   "execution_count": 10,
   "metadata": {},
   "outputs": [
    {
     "name": "stdout",
     "output_type": "stream",
     "text": [
      "Введите номер документа: 123\n",
      "Документ не найден в базе\n"
     ]
    }
   ],
   "source": [
    "doc_number = str(input('Введите номер документа: '))\n",
    "find_shelf(doc_number)"
   ]
  },
  {
   "cell_type": "markdown",
   "metadata": {},
   "source": [
    "### Пункт 3. Пользователь по команде “l” может увидеть полную информацию по всем документам"
   ]
  },
  {
   "cell_type": "code",
   "execution_count": 11,
   "metadata": {},
   "outputs": [],
   "source": [
    "def all_docs():\n",
    "    \n",
    "    s = []\n",
    "    for i in documents:\n",
    "        num = i['number']\n",
    "        typ = i['type']\n",
    "        name = i['name']\n",
    "\n",
    "        for m, d in directories.items():\n",
    "            if num in str(d):\n",
    "                l=[]\n",
    "                l.append(str(m))\n",
    "            else:\n",
    "                pass\n",
    "\n",
    "        s = print('№: ' + num + ', тип: ' + typ + ', владелец: ' + name + ', полка хранения: ' + str(l))\n",
    "    return s\n",
    "    \n"
   ]
  },
  {
   "cell_type": "code",
   "execution_count": 12,
   "metadata": {},
   "outputs": [
    {
     "name": "stdout",
     "output_type": "stream",
     "text": [
      "№: 2207 876234, тип: passport, владелец: Василий Гупкин, полка хранения: ['1']\n",
      "№: 11-2, тип: invoice, владелец: Геннадий Покемонов, полка хранения: ['1']\n",
      "№: 10006, тип: insurance, владелец: Аристарх Павлов, полка хранения: ['2']\n"
     ]
    }
   ],
   "source": [
    "all_docs()"
   ]
  },
  {
   "cell_type": "markdown",
   "metadata": {},
   "source": [
    "### Пункт 4. Пользователь по команде “as” может добавить новую полку"
   ]
  },
  {
   "cell_type": "code",
   "execution_count": 13,
   "metadata": {},
   "outputs": [],
   "source": [
    "def add_shelf(comand):\n",
    "    \n",
    "    if str(comand) in directories:\n",
    "        result = print(f'Такая полка уже существует. Текущий перечень полок {list(directories.keys())[0:]}')\n",
    "    else:\n",
    "        directories[str(comand)] = []\n",
    "        result = print(f'Полка добавлена. Текущий перечень полок: {list(directories.keys())[0:]}')\n",
    "    \n",
    "    return result\n",
    "#print(directories)    "
   ]
  },
  {
   "cell_type": "code",
   "execution_count": 14,
   "metadata": {},
   "outputs": [
    {
     "name": "stdout",
     "output_type": "stream",
     "text": [
      "Введите номер полки: 3\n",
      "Такая полка уже существует. Текущий перечень полок ['1', '2', '3']\n"
     ]
    }
   ],
   "source": [
    "comand = int(input('Введите номер полки: '))\n",
    "\n",
    "add_shelf(comand)"
   ]
  },
  {
   "cell_type": "markdown",
   "metadata": {},
   "source": [
    "### Пункт 5. Пользователь по команде “ds” может удалить существующую полку из данных (только если она пустая)"
   ]
  },
  {
   "cell_type": "code",
   "execution_count": 16,
   "metadata": {},
   "outputs": [],
   "source": [
    "def del_shelf(empty):\n",
    "    \n",
    "    if str(empty) in directories and directories[str(empty)] == []:\n",
    "        del(directories[str(empty)])\n",
    "        result = print(f'Полка удалена. Текущий перечень полок: {list(directories.keys())[0:]}')\n",
    "    elif str(empty) in directories and directories[str(empty)] != []:\n",
    "        result = print(f'На полке есть документы, удалите их перед удалением полки. Текущий перечень полок: {list(directories.keys())[0:]}')\n",
    "    elif str(empty) not in directories:\n",
    "        result = print(f'Такой полки не существует. Текущий перечень полок: {list(directories.keys())[0:]}')\n",
    "    else:\n",
    "        pass\n",
    "    return result "
   ]
  },
  {
   "cell_type": "code",
   "execution_count": 17,
   "metadata": {},
   "outputs": [
    {
     "name": "stdout",
     "output_type": "stream",
     "text": [
      "Введите номер полки: 5\n",
      "Такой полки не существует. Текущий перечень полок: ['1', '2', '3']\n"
     ]
    }
   ],
   "source": [
    "empty = int(input('Введите номер полки: '))\n",
    "del_shelf(empty)"
   ]
  },
  {
   "cell_type": "markdown",
   "metadata": {},
   "source": [
    "## Финальная функция"
   ]
  },
  {
   "cell_type": "code",
   "execution_count": 18,
   "metadata": {},
   "outputs": [],
   "source": [
    "def info_finder_ ():\n",
    "    \"\"\"\n",
    "    Пункт 1. Пользователь по команде “p” может узнать владельца документа по его номеру\n",
    "    Пункт 2. Пользователь по команде “s” может по номеру документа узнать на какой полке он хранится  \n",
    "    Пункт 3. Пользователь по команде “l” может увидеть полную информацию по всем документам\n",
    "    Пункт 4. Пользователь по команде “as” может добавить новую полку\n",
    "    Пункт 5. Пользователь по команде “ds” может удалить существующую полку из данных (только если она пустая)\n",
    "    \"\"\"\n",
    "    \n",
    "    print('Start')\n",
    "    base_command = str(input('Введите команду: '))\n",
    "    \n",
    "    while str(base_command) != 'q':\n",
    "    # Размечаем по признакам команды\n",
    "    ### Пункт 1. Пользователь по команде “p” может узнать владельца документа по его номеру\n",
    "        if base_command == 'p':\n",
    "            doc_number = str(input('Введите номер документа: '))\n",
    "            p=[]\n",
    "            for i in documents:\n",
    "                if i['number'] == str(doc_number):\n",
    "                    p.append(i['name'])\n",
    "                else:\n",
    "                    pass\n",
    "\n",
    "            if p == []:\n",
    "                print('Документ не найден в базе')\n",
    "            else:\n",
    "                 print(f'Владелец документа: {p[0]}')        \n",
    "\n",
    "            base_command = str(input('Введите команду: '))\n",
    "\n",
    "    ### Пункт 2. Пользователь по команде “s” может по номеру документа узнать на какой полке он хранится    \n",
    "        elif base_command == 's':   \n",
    "            doc_number = str(input('Введите номер документа: '))\n",
    "            s=[]\n",
    "\n",
    "            for i,y in directories.items():\n",
    "                if doc_number in str(y):\n",
    "                    s.append(str(i))\n",
    "                else:\n",
    "                    pass\n",
    "\n",
    "            if s == []:\n",
    "                print('Документ не найден в базе')\n",
    "            else:\n",
    "                print(f'Документ хранится на полке: {s[0]}')\n",
    "\n",
    "\n",
    "            base_command = str(input('Введите команду: '))\n",
    "\n",
    "\n",
    "    ### Пункт 3. Пользователь по команде “l” может увидеть полную информацию по всем документам\n",
    "        elif base_command == 'l':\n",
    "            print('Ok')\n",
    "\n",
    "            for i in documents:\n",
    "                num = i['number']\n",
    "                typ = i['type']\n",
    "                name = i['name']\n",
    "\n",
    "                for m, d in directories.items():\n",
    "                    if num in str(d):\n",
    "                        l=[]\n",
    "                        l.append(str(m))\n",
    "                    else:\n",
    "                        pass\n",
    "\n",
    "                print('№: ' + num + ', тип: ' + typ + ', владелец: ' + name + ', полка хранения: ' + str(l))        \n",
    "\n",
    "            base_command = str(input('Введите команду: '))\n",
    "\n",
    "    ### Пункт 4. Пользователь по команде “as” может добавить новую полку\n",
    "        elif base_command == 'as':\n",
    "            comand = int(input('Введите номер полки: '))\n",
    "\n",
    "            if str(comand) in directories:\n",
    "                print(f'Такая полка уже существует. Текущий перечень полок {list(directories.keys())[0:]}')\n",
    "            else:\n",
    "                directories[str(comand)] = []\n",
    "                print(f'Полка добавлена. Текущий перечень полок: {list(directories.keys())[0:]}')\n",
    "\n",
    "\n",
    "\n",
    "\n",
    "            base_command = str(input('Введите команду: '))\n",
    "\n",
    "    ### Пункт 5. Пользователь по команде “ds” может удалить существующую полку из данных (только если она пустая)        \n",
    "        elif base_command == 'ds':\n",
    "            comand = int(input('Введите номер полки: '))\n",
    "\n",
    "            if str(comand) in directories and directories[str(comand)] == []:\n",
    "                del(directories[str(comand)])\n",
    "                print(f'Полка удалена. Текущий перечень полок: {list(directories.keys())[0:]}')\n",
    "            elif str(comand) in directories and directories[str(comand)] != []:\n",
    "                print(f'На полке есть документы, удалите их перед удалением полки. Текущий перечень полок: {list(directories.keys())[0:]}')\n",
    "            elif str(comand) not in directories:\n",
    "                print(f'Такой полки не существует. Текущий перечень полок: {list(directories.keys())[0:]}')\n",
    "            else:\n",
    "                pass\n",
    "\n",
    "\n",
    "\n",
    "\n",
    "            base_command = str(input('Введите команду: '))\n",
    "    return\n",
    "\n"
   ]
  },
  {
   "cell_type": "markdown",
   "metadata": {},
   "source": [
    "### Тестироваание функции"
   ]
  },
  {
   "cell_type": "code",
   "execution_count": 19,
   "metadata": {},
   "outputs": [
    {
     "name": "stdout",
     "output_type": "stream",
     "text": [
      "Start\n",
      "Введите команду: p\n",
      "Введите номер документа: 10006\n",
      "Владелец документа: Аристарх Павлов\n",
      "Введите команду: l\n",
      "Ok\n",
      "№: 2207 876234, тип: passport, владелец: Василий Гупкин, полка хранения: ['1']\n",
      "№: 11-2, тип: invoice, владелец: Геннадий Покемонов, полка хранения: ['1']\n",
      "№: 10006, тип: insurance, владелец: Аристарх Павлов, полка хранения: ['2']\n",
      "Введите команду: as\n",
      "Введите номер полки: 1\n",
      "Такая полка уже существует. Текущий перечень полок ['1', '2', '3']\n",
      "Введите команду: ds\n",
      "Введите номер полки: 4\n",
      "Такой полки не существует. Текущий перечень полок: ['1', '2', '3']\n",
      "Введите команду: q\n"
     ]
    }
   ],
   "source": [
    "info_finder_()"
   ]
  },
  {
   "cell_type": "code",
   "execution_count": 4,
   "metadata": {},
   "outputs": [],
   "source": [
    "?info_finder_"
   ]
  },
  {
   "cell_type": "markdown",
   "metadata": {},
   "source": [
    "### Исправленный код"
   ]
  },
  {
   "cell_type": "code",
   "execution_count": 22,
   "metadata": {},
   "outputs": [],
   "source": [
    "def info_finder_2():\n",
    "    \"\"\"\n",
    "    Пункт 1. Пользователь по команде “p” может узнать владельца документа по его номеру\n",
    "    Пункт 2. Пользователь по команде “s” может по номеру документа узнать на какой полке он хранится  \n",
    "    Пункт 3. Пользователь по команде “l” может увидеть полную информацию по всем документам\n",
    "    Пункт 4. Пользователь по команде “as” может добавить новую полку\n",
    "    Пункт 5. Пользователь по команде “ds” может удалить существующую полку из данных (только если она пустая)\n",
    "    \"\"\"\n",
    "    base_command = str(input('Введите команду: '))\n",
    "    while str(base_command) != 'q':\n",
    "    ### Пункт 1. Пользователь по команде “p” может узнать владельца документа по его номеру\n",
    "        if base_command == 'p':\n",
    "            doc_number = str(input('Введите номер документа: '))\n",
    "            find_person(doc_number)\n",
    "            base_command = str(input('Введите команду: '))\n",
    "    ### Пункт 2. Пользователь по команде “s” может по номеру документа узнать на какой полке он хранится    \n",
    "        elif base_command == 's':\n",
    "            doc_number = str(input('Введите номер документа: '))\n",
    "            find_shelf(doc_number)\n",
    "            base_command = str(input('Введите команду: '))\n",
    "    ### Пункт 3. Пользователь по команде “l” может увидеть полную информацию по всем документам\n",
    "        elif base_command == 'l':\n",
    "            all_docs()\n",
    "            base_command = str(input('Введите команду: '))\n",
    "    ### Пункт 4. Пользователь по команде “as” может добавить новую полку\n",
    "        elif base_command == 'as':       \n",
    "            comand = int(input('Введите номер полки: '))\n",
    "            add_shelf(comand)\n",
    "            base_command = str(input('Введите команду: '))\n",
    "    ### Пункт 5. Пользователь по команде “ds” может удалить существующую полку из данных (только если она пустая)        \n",
    "        elif base_command == 'ds':\n",
    "            empty = int(input('Введите номер полки: '))\n",
    "            del_shelf(empty)\n",
    "            base_command = str(input('Введите команду: '))\n",
    "    return        "
   ]
  },
  {
   "cell_type": "markdown",
   "metadata": {},
   "source": [
    "### Тестирование кода_v2"
   ]
  },
  {
   "cell_type": "code",
   "execution_count": 23,
   "metadata": {},
   "outputs": [
    {
     "name": "stdout",
     "output_type": "stream",
     "text": [
      "Введите команду: p\n",
      "Введите номер документа: 10006\n",
      "Владелец документа: Аристарх Павлов\n",
      "Введите команду: s\n",
      "Введите номер документа: 10006\n",
      "Документ хранится на полке: 2\n",
      "Введите команду: s\n",
      "Введите номер документа: 123\n",
      "Документ не найден в базе\n",
      "Введите команду: as\n",
      "Введите номер полки: 3\n",
      "Такая полка уже существует. Текущий перечень полок ['1', '2', '3']\n",
      "Введите команду: as\n",
      "Введите номер полки: 4\n",
      "Полка добавлена. Текущий перечень полок: ['1', '2', '3', '4']\n",
      "Введите команду: ds\n",
      "Введите номер полки: 3\n",
      "Полка удалена. Текущий перечень полок: ['1', '2', '4']\n",
      "Введите команду: ds\n",
      "Введите номер полки: 4\n",
      "Полка удалена. Текущий перечень полок: ['1', '2']\n",
      "Введите команду: ds\n",
      "Введите номер полки: 1\n",
      "На полке есть документы, удалите их перед удалением полки. Текущий перечень полок: ['1', '2']\n",
      "Введите команду: q\n"
     ]
    }
   ],
   "source": [
    "info_finder_2()"
   ]
  },
  {
   "cell_type": "code",
   "execution_count": null,
   "metadata": {},
   "outputs": [],
   "source": []
  }
 ],
 "metadata": {
  "kernelspec": {
   "display_name": "Python 3",
   "language": "python",
   "name": "python3"
  },
  "language_info": {
   "codemirror_mode": {
    "name": "ipython",
    "version": 3
   },
   "file_extension": ".py",
   "mimetype": "text/x-python",
   "name": "python",
   "nbconvert_exporter": "python",
   "pygments_lexer": "ipython3",
   "version": "3.8.3"
  }
 },
 "nbformat": 4,
 "nbformat_minor": 4
}
