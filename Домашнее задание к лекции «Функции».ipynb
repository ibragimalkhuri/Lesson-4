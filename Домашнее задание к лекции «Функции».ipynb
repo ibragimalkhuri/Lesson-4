{
 "cells": [
  {
   "cell_type": "markdown",
   "metadata": {},
   "source": [
    "# Задание 1"
   ]
  },
  {
   "cell_type": "code",
   "execution_count": 10,
   "metadata": {},
   "outputs": [],
   "source": [
    "documents = [\n",
    "{'type': 'passport', 'number': '2207 876234', 'name': 'Василий Гупкин'},\n",
    "{'type': 'invoice', 'number': '11-2', 'name':'Геннадий Покемонов'},\n",
    "{'type': 'insurance', 'number': '10006', 'name': 'Аристарх Павлов'}\n",
    "    \n",
    "]\n",
    " \n",
    "    \n",
    "directories = {\n",
    "'1': ['2207 876234', '11-2'],\n",
    "'2': ['10006'],\n",
    "'3': []\n",
    "}    \n"
   ]
  },
  {
   "cell_type": "markdown",
   "metadata": {},
   "source": [
    "### Пункт 1. Пользователь по команде “p” может узнать владельца документа по его номеру"
   ]
  },
  {
   "cell_type": "code",
   "execution_count": 5,
   "metadata": {
    "scrolled": true
   },
   "outputs": [
    {
     "name": "stdout",
     "output_type": "stream",
     "text": [
      "Введите номер документа: 10006\n",
      "Владелец документа: Аристарх Павлов\n"
     ]
    }
   ],
   "source": [
    "# type_user = int(input('Введите команду: '))\n",
    "doc_number = int(input('Введите номер документа: '))\n",
    "\n",
    "p=[]\n",
    "for i in documents:\n",
    "    if i['number'] == str(doc_number):\n",
    "        p.append(i['name'])\n",
    "    else:\n",
    "        pass\n",
    "    \n",
    "if p == []:\n",
    "    print('Документ не найден в базе')\n",
    "else:\n",
    "     print(f'Владелец документа: {p[0]}')\n",
    "       "
   ]
  },
  {
   "cell_type": "markdown",
   "metadata": {},
   "source": [
    "### Пункт 2. Пользователь по команде “s” может по номеру документа узнать на какой полке он хранится"
   ]
  },
  {
   "cell_type": "code",
   "execution_count": 167,
   "metadata": {},
   "outputs": [
    {
     "name": "stdout",
     "output_type": "stream",
     "text": [
      "Введите номер документа: 1234\n",
      "Документ не найден в базе\n"
     ]
    }
   ],
   "source": [
    "# type_user = int(input('Введите команду: '))\n",
    "doc_number = str(input('Введите номер документа: '))\n",
    "\n",
    "s=[]\n",
    "\n",
    "for i,y in directories.items():\n",
    "    if doc_number in str(y):\n",
    "        s.append(str(i))\n",
    "    else:\n",
    "        pass\n",
    "    \n",
    "if s == []:\n",
    "    print('Документ не найден в базе')\n",
    "else:\n",
    "    print(f'Документ хранится на полке: {s[0]}')\n",
    "\n",
    "\n",
    "\n"
   ]
  },
  {
   "cell_type": "markdown",
   "metadata": {},
   "source": [
    "### Пункт 3. Пользователь по команде “l” может увидеть полную информацию по всем документам"
   ]
  },
  {
   "cell_type": "code",
   "execution_count": 213,
   "metadata": {},
   "outputs": [
    {
     "name": "stdout",
     "output_type": "stream",
     "text": [
      "№: 2207 876234, тип: passport, владелец: Василий Гупкин, полка хранения: ['1']\n",
      "№: 11-2, тип: invoice, владелец: Геннадий Покемонов, полка хранения: ['1']\n",
      "№: 10006, тип: insurance, владелец: Аристарх Павлов, полка хранения: ['2']\n"
     ]
    }
   ],
   "source": [
    "#type_user = int(input('Введите команду: '))\n",
    "#doc_number = str(input('Введите номер документа: '))\n",
    "\n",
    "for i in documents:\n",
    "    num = i['number']\n",
    "    typ = i['type']\n",
    "    name = i['name']\n",
    "    \n",
    "    for m, d in directories.items():\n",
    "        if num in str(d):\n",
    "            l=[]\n",
    "            l.append(str(m))\n",
    "        else:\n",
    "            pass\n",
    "    \n",
    "    print('№: ' + num + ', тип: ' + typ + ', владелец: ' + name + ', полка хранения: ' + str(l))\n",
    "  \n",
    "\n"
   ]
  },
  {
   "cell_type": "markdown",
   "metadata": {},
   "source": [
    "### Пункт 4. Пользователь по команде “as” может добавить новую полку"
   ]
  },
  {
   "cell_type": "code",
   "execution_count": 249,
   "metadata": {},
   "outputs": [
    {
     "name": "stdout",
     "output_type": "stream",
     "text": [
      "Введите номер полки: 4\n",
      "Полка добавлена. Текущий перечень полок: ['1', '2', '3', '4']\n",
      "{'1': ['2207 876234', '11-2'], '2': ['10006'], '3': [], '4': []}\n"
     ]
    }
   ],
   "source": [
    "#type_user = int(input('Введите команду: '))\n",
    "#doc_number = str(input('Введите номер документа: '))\n",
    "comand = int(input('Введите номер полки: '))\n",
    "\n",
    "\n",
    "if str(comand) in directories:\n",
    "    print(f'Такая полка уже существует. Текущий перечень полок {list(directories.keys())[0:]}')\n",
    "else:\n",
    "    directories[str(comand)] = []\n",
    "    print(f'Полка добавлена. Текущий перечень полок: {list(directories.keys())[0:]}')\n",
    "    \n",
    "    \n",
    "print(directories)    "
   ]
  },
  {
   "cell_type": "markdown",
   "metadata": {},
   "source": [
    "### Пункт 5. Пользователь по команде “ds” может удалить существующую полку из данных (только если она пустая)"
   ]
  },
  {
   "cell_type": "code",
   "execution_count": 250,
   "metadata": {},
   "outputs": [
    {
     "name": "stdout",
     "output_type": "stream",
     "text": [
      "Введите номер полки: 1\n",
      "На полке есть документы, удалите их перед удалением полки. Текущий перечень полок: ['1', '2', '3', '4']\n"
     ]
    }
   ],
   "source": [
    "#type_user = int(input('Введите команду: '))\n",
    "#doc_number = str(input('Введите номер документа: '))\n",
    "#comand = int(input('Введите номер полки: '))\n",
    "empty = int(input('Введите номер полки: '))\n",
    "\n",
    "\n",
    "if str(empty) in directories and directories[str(empty)] == []:\n",
    "    del(directories[str(empty)])\n",
    "    print(f'Полка удалена. Текущий перечень полок: {list(directories.keys())[0:]}')\n",
    "elif str(empty) in directories and directories[str(empty)] != []:\n",
    "    print(f'На полке есть документы, удалите их перед удалением полки. Текущий перечень полок: {list(directories.keys())[0:]}')\n",
    "elif str(empty) not in directories:\n",
    "    print(f'Такой полки не существует. Текущий перечень полок: {list(directories.keys())[0:]}')\n",
    "else:\n",
    "    pass\n"
   ]
  },
  {
   "cell_type": "markdown",
   "metadata": {},
   "source": [
    "## Финальная функция"
   ]
  },
  {
   "cell_type": "code",
   "execution_count": 26,
   "metadata": {},
   "outputs": [],
   "source": [
    "#base_command = str(input('Введите команду: '))\n",
    "def info_finder_ ():\n",
    "    \"\"\"\n",
    "    Пункт 1. Пользователь по команде “p” может узнать владельца документа по его номеру\n",
    "    Пункт 2. Пользователь по команде “s” может по номеру документа узнать на какой полке он хранится  \n",
    "    Пункт 3. Пользователь по команде “l” может увидеть полную информацию по всем документам\n",
    "    Пункт 4. Пользователь по команде “as” может добавить новую полку\n",
    "    Пункт 5. Пользователь по команде “ds” может удалить существующую полку из данных (только если она пустая)\n",
    "    \"\"\"\n",
    "    \n",
    "    print('Start')\n",
    "    base_command = str(input('Введите команду: '))\n",
    "    \n",
    "    while str(base_command) != 'q':\n",
    "    # Размечаем по признакам команды\n",
    "    ### Пункт 1. Пользователь по команде “p” может узнать владельца документа по его номеру\n",
    "        if base_command == 'p':\n",
    "            doc_number = str(input('Введите номер документа: '))\n",
    "            p=[]\n",
    "            for i in documents:\n",
    "                if i['number'] == str(doc_number):\n",
    "                    p.append(i['name'])\n",
    "                else:\n",
    "                    pass\n",
    "\n",
    "            if p == []:\n",
    "                print('Документ не найден в базе')\n",
    "            else:\n",
    "                 print(f'Владелец документа: {p[0]}')        \n",
    "\n",
    "            base_command = str(input('Введите команду: '))\n",
    "\n",
    "    ### Пункт 2. Пользователь по команде “s” может по номеру документа узнать на какой полке он хранится    \n",
    "        elif base_command == 's':   \n",
    "            doc_number = str(input('Введите номер документа: '))\n",
    "            s=[]\n",
    "\n",
    "            for i,y in directories.items():\n",
    "                if doc_number in str(y):\n",
    "                    s.append(str(i))\n",
    "                else:\n",
    "                    pass\n",
    "\n",
    "            if s == []:\n",
    "                print('Документ не найден в базе')\n",
    "            else:\n",
    "                print(f'Документ хранится на полке: {s[0]}')\n",
    "\n",
    "\n",
    "            base_command = str(input('Введите команду: '))\n",
    "\n",
    "\n",
    "    ### Пункт 3. Пользователь по команде “l” может увидеть полную информацию по всем документам\n",
    "        elif base_command == 'l':\n",
    "            print('Ok')\n",
    "\n",
    "            for i in documents:\n",
    "                num = i['number']\n",
    "                typ = i['type']\n",
    "                name = i['name']\n",
    "\n",
    "                for m, d in directories.items():\n",
    "                    if num in str(d):\n",
    "                        l=[]\n",
    "                        l.append(str(m))\n",
    "                    else:\n",
    "                        pass\n",
    "\n",
    "                print('№: ' + num + ', тип: ' + typ + ', владелец: ' + name + ', полка хранения: ' + str(l))        \n",
    "\n",
    "            base_command = str(input('Введите команду: '))\n",
    "\n",
    "    ### Пункт 4. Пользователь по команде “as” может добавить новую полку\n",
    "        elif base_command == 'as':\n",
    "            comand = int(input('Введите номер полки: '))\n",
    "\n",
    "            if str(comand) in directories:\n",
    "                print(f'Такая полка уже существует. Текущий перечень полок {list(directories.keys())[0:]}')\n",
    "            else:\n",
    "                directories[str(comand)] = []\n",
    "                print(f'Полка добавлена. Текущий перечень полок: {list(directories.keys())[0:]}')\n",
    "\n",
    "\n",
    "\n",
    "\n",
    "            base_command = str(input('Введите команду: '))\n",
    "\n",
    "    ### Пункт 5. Пользователь по команде “ds” может удалить существующую полку из данных (только если она пустая)        \n",
    "        elif base_command == 'ds':\n",
    "            comand = int(input('Введите номер полки: '))\n",
    "\n",
    "            if str(comand) in directories and directories[str(comand)] == []:\n",
    "                del(directories[str(comand)])\n",
    "                print(f'Полка удалена. Текущий перечень полок: {list(directories.keys())[0:]}')\n",
    "            elif str(comand) in directories and directories[str(comand)] != []:\n",
    "                print(f'На полке есть документы, удалите их перед удалением полки. Текущий перечень полок: {list(directories.keys())[0:]}')\n",
    "            elif str(comand) not in directories:\n",
    "                print(f'Такой полки не существует. Текущий перечень полок: {list(directories.keys())[0:]}')\n",
    "            else:\n",
    "                pass\n",
    "\n",
    "\n",
    "\n",
    "\n",
    "            base_command = str(input('Введите команду: '))\n",
    "    return\n",
    "\n"
   ]
  },
  {
   "cell_type": "markdown",
   "metadata": {},
   "source": [
    "### Тестироваание функции"
   ]
  },
  {
   "cell_type": "code",
   "execution_count": 28,
   "metadata": {},
   "outputs": [
    {
     "name": "stdout",
     "output_type": "stream",
     "text": [
      "Start\n",
      "Введите команду: p\n",
      "Введите номер документа: 10006\n",
      "Владелец документа: Аристарх Павлов\n",
      "Введите команду: p\n",
      "Введите номер документа: 123\n",
      "Документ не найден в базе\n",
      "Введите команду: s\n",
      "Введите номер документа: 10006\n",
      "Документ хранится на полке: 2\n",
      "Введите команду: s\n",
      "Введите номер документа: 123\n",
      "Документ не найден в базе\n",
      "Введите команду: l\n",
      "Ok\n",
      "№: 2207 876234, тип: passport, владелец: Василий Гупкин, полка хранения: ['1']\n",
      "№: 11-2, тип: invoice, владелец: Геннадий Покемонов, полка хранения: ['1']\n",
      "№: 10006, тип: insurance, владелец: Аристарх Павлов, полка хранения: ['2']\n",
      "Введите команду: as\n",
      "Введите номер полки: 5\n",
      "Полка добавлена. Текущий перечень полок: ['1', '2', '4', '3', '5']\n",
      "Введите команду: q\n"
     ]
    }
   ],
   "source": [
    "info_finder_()"
   ]
  },
  {
   "cell_type": "code",
   "execution_count": null,
   "metadata": {},
   "outputs": [],
   "source": []
  },
  {
   "cell_type": "code",
   "execution_count": null,
   "metadata": {},
   "outputs": [],
   "source": []
  },
  {
   "cell_type": "code",
   "execution_count": null,
   "metadata": {},
   "outputs": [],
   "source": []
  },
  {
   "cell_type": "code",
   "execution_count": null,
   "metadata": {},
   "outputs": [],
   "source": []
  },
  {
   "cell_type": "code",
   "execution_count": null,
   "metadata": {},
   "outputs": [],
   "source": []
  },
  {
   "cell_type": "code",
   "execution_count": null,
   "metadata": {},
   "outputs": [],
   "source": []
  },
  {
   "cell_type": "code",
   "execution_count": null,
   "metadata": {},
   "outputs": [],
   "source": []
  },
  {
   "cell_type": "code",
   "execution_count": null,
   "metadata": {},
   "outputs": [],
   "source": []
  },
  {
   "cell_type": "code",
   "execution_count": null,
   "metadata": {},
   "outputs": [],
   "source": []
  },
  {
   "cell_type": "code",
   "execution_count": null,
   "metadata": {},
   "outputs": [],
   "source": []
  },
  {
   "cell_type": "code",
   "execution_count": null,
   "metadata": {},
   "outputs": [],
   "source": []
  },
  {
   "cell_type": "code",
   "execution_count": null,
   "metadata": {},
   "outputs": [],
   "source": []
  },
  {
   "cell_type": "code",
   "execution_count": null,
   "metadata": {},
   "outputs": [],
   "source": []
  },
  {
   "cell_type": "code",
   "execution_count": null,
   "metadata": {},
   "outputs": [],
   "source": []
  },
  {
   "cell_type": "code",
   "execution_count": null,
   "metadata": {},
   "outputs": [],
   "source": []
  },
  {
   "cell_type": "code",
   "execution_count": null,
   "metadata": {},
   "outputs": [],
   "source": []
  },
  {
   "cell_type": "code",
   "execution_count": null,
   "metadata": {},
   "outputs": [],
   "source": []
  },
  {
   "cell_type": "code",
   "execution_count": null,
   "metadata": {},
   "outputs": [],
   "source": []
  },
  {
   "cell_type": "code",
   "execution_count": null,
   "metadata": {},
   "outputs": [],
   "source": []
  },
  {
   "cell_type": "code",
   "execution_count": null,
   "metadata": {},
   "outputs": [],
   "source": []
  },
  {
   "cell_type": "code",
   "execution_count": null,
   "metadata": {},
   "outputs": [],
   "source": []
  },
  {
   "cell_type": "code",
   "execution_count": null,
   "metadata": {},
   "outputs": [],
   "source": []
  },
  {
   "cell_type": "code",
   "execution_count": null,
   "metadata": {},
   "outputs": [],
   "source": []
  },
  {
   "cell_type": "code",
   "execution_count": null,
   "metadata": {},
   "outputs": [],
   "source": []
  },
  {
   "cell_type": "code",
   "execution_count": null,
   "metadata": {},
   "outputs": [],
   "source": []
  },
  {
   "cell_type": "code",
   "execution_count": null,
   "metadata": {},
   "outputs": [],
   "source": []
  },
  {
   "cell_type": "code",
   "execution_count": null,
   "metadata": {},
   "outputs": [],
   "source": []
  },
  {
   "cell_type": "code",
   "execution_count": null,
   "metadata": {},
   "outputs": [],
   "source": []
  },
  {
   "cell_type": "code",
   "execution_count": null,
   "metadata": {},
   "outputs": [],
   "source": [
    "\n"
   ]
  },
  {
   "cell_type": "code",
   "execution_count": null,
   "metadata": {},
   "outputs": [],
   "source": []
  },
  {
   "cell_type": "code",
   "execution_count": null,
   "metadata": {},
   "outputs": [],
   "source": []
  }
 ],
 "metadata": {
  "kernelspec": {
   "display_name": "Python 3",
   "language": "python",
   "name": "python3"
  }
 },
 "nbformat": 4,
 "nbformat_minor": 4
}
